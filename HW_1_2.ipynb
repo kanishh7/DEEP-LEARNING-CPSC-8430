{
  "nbformat": 4,
  "nbformat_minor": 0,
  "metadata": {
    "colab": {
      "provenance": []
    },
    "kernelspec": {
      "name": "python3",
      "display_name": "Python 3"
    },
    "language_info": {
      "name": "python"
    }
  },
  "cells": [
    {
      "cell_type": "markdown",
      "source": [
        "HW 1-2 PART 1 PCA -----------------------------------------"
      ],
      "metadata": {
        "id": "BH1c1da4vg56"
      }
    },
    {
      "cell_type": "code",
      "execution_count": null,
      "metadata": {
        "id": "C152jHm9CrLd"
      },
      "outputs": [],
      "source": [
        "import torch\n",
        "import torch.nn as nn\n",
        "import torch.optim as optim\n",
        "from torchvision import datasets, transforms\n",
        "from torch.autograd import Variable\n",
        "import torch.nn.functional as F\n",
        "import numpy as np\n",
        "import matplotlib.pyplot as plt\n",
        "import os\n",
        "import pandas as pd\n",
        "from sklearn.decomposition import PCA"
      ]
    },
    {
      "cell_type": "code",
      "source": [
        "torch.manual_seed(1)\n",
        "#loading the dataset MNIST\n",
        "def load_training_data(train_batch_size, test_batch_size):\n",
        "    trainset = datasets.MNIST('data', train=True, download=True,\n",
        "                              transform=transforms.Compose([\n",
        "                                  transforms.ToTensor()\n",
        "                              ]))\n",
        "    train_loader = torch.utils.data.DataLoader(trainset, batch_size=train_batch_size, shuffle=True)\n",
        "\n",
        "    testset = datasets.MNIST('data', train=False, download=True,\n",
        "                             transform=transforms.Compose([\n",
        "                                 transforms.ToTensor()\n",
        "                             ]))\n",
        "    test_loader = torch.utils.data.DataLoader(testset, batch_size=test_batch_size, shuffle=True)\n",
        "\n",
        "    return train_loader, test_loader"
      ],
      "metadata": {
        "id": "f2YYrT75EzXm"
      },
      "execution_count": null,
      "outputs": []
    },
    {
      "cell_type": "code",
      "source": [
        "class Model0(nn.Module):\n",
        "    def __init__(self):\n",
        "        super().__init__()\n",
        "        self.fc1 = nn.Linear(784, 10)\n",
        "        self.fc2 = nn.Linear(10, 20)\n",
        "        self.fc3 = nn.Linear(20, 10)\n",
        "\n",
        "    def forward(self, val):\n",
        "        val = F.relu(self.fc1(val))\n",
        "        val = F.relu(self.fc2(val))\n",
        "        val = self.fc3(val)\n",
        "        return val"
      ],
      "metadata": {
        "id": "2r2alOO-E1wZ"
      },
      "execution_count": null,
      "outputs": []
    },
    {
      "cell_type": "code",
      "source": [
        "def calc_loss_function(model, loader, loss_fn):\n",
        "    correct_cnt = 0\n",
        "    total = 0\n",
        "    costSum = 0\n",
        "    costCounter = 0\n",
        "    with torch.no_grad():\n",
        "        for batch in loader:\n",
        "            data, target = batch\n",
        "            output = model(data.view(-1, 784))\n",
        "            cost = loss_fn(output, target)\n",
        "            costSum += cost\n",
        "            costCounter += 1\n",
        "            for i, outputTensor in enumerate(output):\n",
        "                if torch.argmax(outputTensor) == target[i]:\n",
        "                    correct_cnt += 1\n",
        "                total += 1\n",
        "    return costSum / costCounter, round(correct_cnt / total, 3)"
      ],
      "metadata": {
        "id": "vegvXdouE11n"
      },
      "execution_count": null,
      "outputs": []
    },
    {
      "cell_type": "code",
      "source": [],
      "metadata": {
        "id": "lRS6Xr50oGUC"
      },
      "execution_count": null,
      "outputs": []
    },
    {
      "cell_type": "code",
      "source": [
        "def train_func(model, num_epochs):\n",
        "    model.train()\n",
        "    epoch = 0\n",
        "    df = pd.DataFrame()\n",
        "    for epoch in range(num_epochs):\n",
        "        epoch += 1\n",
        "        for _, (images, labels) in enumerate(train_loader):\n",
        "            images, labels = Variable(images), Variable(labels)\n",
        "            optimizer.zero_grad()\n",
        "            prediction = model(images.view(-1, 784))\n",
        "            loss = loss_fn(prediction, labels)\n",
        "            loss.backward()\n",
        "            optimizer.step()\n",
        "        temp_df = pd.DataFrame()\n",
        "        for name, parameter in model.named_parameters():\n",
        "            if 'weight' in name:\n",
        "                weights = torch.nn.utils.parameters_to_vector(parameter).detach().numpy()\n",
        "                temp_df = pd.concat([temp_df, pd.DataFrame(weights).T], axis=1)\n",
        "        df = pd.concat([df, temp_df], axis=0)\n",
        "        train_loss, train_acc = calc_loss_function(M, train_loader, loss_fn)\n",
        "        test_loss, test_acc = calc_loss_function(M, test_loader, loss_fn)\n",
        "        train_loss_array.append(train_loss)\n",
        "        test_loss_array.append(test_loss)\n",
        "        train_acc_array.append(train_acc)\n",
        "        test_acc_array.append(test_acc)\n",
        "    return df"
      ],
      "metadata": {
        "id": "5E0iprYdE14B"
      },
      "execution_count": null,
      "outputs": []
    },
    {
      "cell_type": "code",
      "source": [
        "train_batch_size = 1000\n",
        "test_batch_size = 1000\n",
        "train_loader, test_loader = load_training_data(train_batch_size, test_batch_size)\n",
        "train_loss_array = []\n",
        "test_loss_array = []\n",
        "train_acc_array = []\n",
        "test_acc_array = []\n",
        "max_epochs = 32\n",
        "all_dfs = []\n",
        "columns = [\"x\", \"y\", \"loops\"]\n",
        "loss_fn = nn.CrossEntropyLoss()\n",
        "\n",
        "for count in range(8):\n",
        "    print(\"LOOP: \" + str(count))\n",
        "    M = Model0()\n",
        "    optimizer = torch.optim.Adam(M.parameters(), lr=0.0004, weight_decay=1e-4)\n",
        "    model_name1 = \"loops: \" + str(count)\n",
        "    temp_df = train_func(M, max_epochs)\n",
        "    all_dfs.append(temp_df)\n",
        "\n",
        "all_df = pd.concat(all_dfs, ignore_index=True)\n",
        "df = all_df\n",
        "df = np.array(df)\n",
        "pca = PCA(n_components=2)\n",
        "new_data = pca.fit_transform(df)\n",
        "df = pd.DataFrame(new_data, columns=['x', 'y'])\n",
        "df['Accuracy'] = train_acc_array\n",
        "df['Loss'] = train_loss_array\n",
        "final_df = df.iloc[::3, :]"
      ],
      "metadata": {
        "colab": {
          "base_uri": "https://localhost:8080/"
        },
        "id": "AJ7J4yXoE16h",
        "outputId": "d9c33cf2-37d3-4e98-970c-a4492ab841d8"
      },
      "execution_count": null,
      "outputs": [
        {
          "output_type": "stream",
          "name": "stdout",
          "text": [
            "Downloading http://yann.lecun.com/exdb/mnist/train-images-idx3-ubyte.gz\n",
            "Downloading http://yann.lecun.com/exdb/mnist/train-images-idx3-ubyte.gz to data/MNIST/raw/train-images-idx3-ubyte.gz\n"
          ]
        },
        {
          "output_type": "stream",
          "name": "stderr",
          "text": [
            "100%|██████████| 9912422/9912422 [00:00<00:00, 184257647.15it/s]"
          ]
        },
        {
          "output_type": "stream",
          "name": "stdout",
          "text": [
            "Extracting data/MNIST/raw/train-images-idx3-ubyte.gz to data/MNIST/raw\n"
          ]
        },
        {
          "output_type": "stream",
          "name": "stderr",
          "text": [
            "\n"
          ]
        },
        {
          "output_type": "stream",
          "name": "stdout",
          "text": [
            "\n",
            "Downloading http://yann.lecun.com/exdb/mnist/train-labels-idx1-ubyte.gz\n",
            "Downloading http://yann.lecun.com/exdb/mnist/train-labels-idx1-ubyte.gz to data/MNIST/raw/train-labels-idx1-ubyte.gz\n"
          ]
        },
        {
          "output_type": "stream",
          "name": "stderr",
          "text": [
            "100%|██████████| 28881/28881 [00:00<00:00, 78761829.53it/s]\n"
          ]
        },
        {
          "output_type": "stream",
          "name": "stdout",
          "text": [
            "Extracting data/MNIST/raw/train-labels-idx1-ubyte.gz to data/MNIST/raw\n",
            "\n",
            "Downloading http://yann.lecun.com/exdb/mnist/t10k-images-idx3-ubyte.gz\n",
            "Downloading http://yann.lecun.com/exdb/mnist/t10k-images-idx3-ubyte.gz to data/MNIST/raw/t10k-images-idx3-ubyte.gz\n"
          ]
        },
        {
          "output_type": "stream",
          "name": "stderr",
          "text": [
            "100%|██████████| 1648877/1648877 [00:00<00:00, 122145732.90it/s]"
          ]
        },
        {
          "output_type": "stream",
          "name": "stdout",
          "text": [
            "Extracting data/MNIST/raw/t10k-images-idx3-ubyte.gz to data/MNIST/raw\n"
          ]
        },
        {
          "output_type": "stream",
          "name": "stderr",
          "text": [
            "\n"
          ]
        },
        {
          "output_type": "stream",
          "name": "stdout",
          "text": [
            "\n",
            "Downloading http://yann.lecun.com/exdb/mnist/t10k-labels-idx1-ubyte.gz\n",
            "Downloading http://yann.lecun.com/exdb/mnist/t10k-labels-idx1-ubyte.gz to data/MNIST/raw/t10k-labels-idx1-ubyte.gz\n"
          ]
        },
        {
          "output_type": "stream",
          "name": "stderr",
          "text": [
            "100%|██████████| 4542/4542 [00:00<00:00, 14860006.84it/s]\n"
          ]
        },
        {
          "output_type": "stream",
          "name": "stdout",
          "text": [
            "Extracting data/MNIST/raw/t10k-labels-idx1-ubyte.gz to data/MNIST/raw\n",
            "\n",
            "LOOP: 0\n",
            "LOOP: 1\n",
            "LOOP: 2\n",
            "LOOP: 3\n",
            "LOOP: 4\n",
            "LOOP: 5\n",
            "LOOP: 6\n",
            "LOOP: 7\n"
          ]
        }
      ]
    },
    {
      "cell_type": "code",
      "source": [
        "for i in range(66):\n",
        "    m = list(final_df['Accuracy'])[i]\n",
        "    plt.scatter(final_df['x'][i * 3], final_df['y'][i * 3], marker=f'${m}$')\n",
        "plt.title(\"PCA FOR THE WHOLE MODEL\")\n",
        "#HERE WE PLOT PCA FOR THE WHOLE MODEL"
      ],
      "metadata": {
        "colab": {
          "base_uri": "https://localhost:8080/",
          "height": 469
        },
        "id": "CWiHMj1yFSiP",
        "outputId": "0b0ccc75-e35d-4a36-ded2-0ab99b6c70c7"
      },
      "execution_count": null,
      "outputs": [
        {
          "output_type": "execute_result",
          "data": {
            "text/plain": [
              "Text(0.5, 1.0, 'PCA FOR THW WHOLE MODEL')"
            ]
          },
          "metadata": {},
          "execution_count": 7
        },
        {
          "output_type": "display_data",
          "data": {
            "text/plain": [
              "<Figure size 640x480 with 1 Axes>"
            ],
            "image/png": "[encoded data removed]"
          },
          "metadata": {}
        }
      ]
    },
    {
      "cell_type": "code",
      "source": [
        "layer_1_data = all_df.iloc[:, :7000]\n",
        "layer_1_pca = PCA(n_components=2)\n",
        "layer_1_new_data = layer_1_pca.fit_transform(layer_1_data)\n",
        "layer_1_df = pd.DataFrame(layer_1_new_data, columns=['x', 'y'])\n",
        "layer_1_df['Accuracy'] = train_acc_array\n",
        "layer_1_df['Loss'] = train_loss_array\n",
        "\n",
        "for i in range(70):\n",
        "    m = list(layer_1_df['Accuracy'])[i]\n",
        "    plt.scatter(layer_1_df['x'][i * 3], layer_1_df['y'][i * 3], marker=f'${m}$')\n",
        "\n",
        "plt.title(\"ONE LAYER\")\n",
        "plt.show()\n",
        "#HERE WE DO PCA FOR 1 LAYER"
      ],
      "metadata": {
        "colab": {
          "base_uri": "https://localhost:8080/",
          "height": 452
        },
        "id": "8ZYvBjXeFWX1",
        "outputId": "394d8985-7fe9-4059-ffa9-d62c62da75f0"
      },
      "execution_count": null,
      "outputs": [
        {
          "output_type": "display_data",
          "data": {
            "text/plain": [
              "<Figure size 640x480 with 1 Axes>"
            ],
            "image/png": "[encoded data removed]"
          },
          "metadata": {}
        }
      ]
    },
    {
      "cell_type": "markdown",
      "source": [
        "PART 2 GRADIANT NORM"
      ],
      "metadata": {
        "id": "Q6cMCM8evt--"
      }
    },
    {
      "cell_type": "code",
      "source": [
        "torch.manual_seed(1)\n",
        "x = torch.unsqueeze(torch.linspace(-1, 1, 300), dim=1)\n",
        "y = (np.sin(5 * np.pi * x)) / (5 * np.pi * x)\n",
        "x, y = torch.tensor(x, dtype=torch.float32), torch.tensor(y, dtype=torch.float32)"
      ],
      "metadata": {
        "colab": {
          "base_uri": "https://localhost:8080/"
        },
        "id": "AnG8_2V5v01L",
        "outputId": "94bde369-c74a-4d25-c367-f5ffa153e828"
      },
      "execution_count": null,
      "outputs": [
        {
          "output_type": "stream",
          "name": "stderr",
          "text": [
            "<ipython-input-9-5b05e1f3d42c>:4: UserWarning: To copy construct from a tensor, it is recommended to use sourceTensor.clone().detach() or sourceTensor.clone().detach().requires_grad_(True), rather than torch.tensor(sourceTensor).\n",
            "  x, y = torch.tensor(x, dtype=torch.float32), torch.tensor(y, dtype=torch.float32)\n"
          ]
        }
      ]
    },
    {
      "cell_type": "code",
      "source": [
        "class Model0(nn.Module):\n",
        "    def __init__(self):\n",
        "        super(Model0, self).__init__()\n",
        "        self.fc1 = nn.Linear(1, 190)\n",
        "        self.fc2 = nn.Linear(190, 1)\n",
        "\n",
        "    def forward(self, x):\n",
        "        x = F.relu(self.fc1(x))\n",
        "        x = self.fc2(x)\n",
        "        return x"
      ],
      "metadata": {
        "id": "0_Z9_zfvv62q"
      },
      "execution_count": null,
      "outputs": []
    },
    {
      "cell_type": "code",
      "source": [
        "def train_model(model, x, y, max_iteration=10000, convergence_threshold=1.0e-05):\n",
        "    optimizer = torch.optim.Adam(model.parameters(), lr=1e-3, weight_decay=1e-4)\n",
        "    loss_func = torch.nn.MSELoss()\n",
        "\n",
        "    iteration_arr, loss_arr, grad_arr = [], [], []\n",
        "    not_converged = True\n",
        "    iteration = 0\n",
        "\n",
        "    while not_converged:\n",
        "        iteration += 1\n",
        "        prediction = model(x)\n",
        "        loss = loss_func(prediction, y)\n",
        "        optimizer.zero_grad()\n",
        "        loss.backward()\n",
        "\n",
        "        grad_norm = torch.norm(torch.cat([p.grad.flatten() for p in model.parameters()])).item()\n",
        "        grad_arr.append(grad_norm)\n",
        "        iteration_arr.append(iteration)\n",
        "        loss_arr.append(loss.item())\n",
        "\n",
        "        optimizer.step()\n",
        "\n",
        "        if iteration % 100 == 0:\n",
        "            print(f'iteration: {iteration}, loss = {loss.item():.4f}, grad_norm = {grad_norm}')\n",
        "\n",
        "        if iteration > max_iteration:\n",
        "            print(\"Max Iterations Reached\")\n",
        "            not_converged = False\n",
        "        elif iteration > 5 and loss.item() < 0.001:\n",
        "            if abs(grad_arr[-3] - grad_arr[-2]) < convergence_threshold and abs(grad_arr[-2] - grad_arr[-1]) < convergence_threshold:\n",
        "                print(f\"Convergence reached for loss: {loss.item()}\")\n",
        "                not_converged = False\n",
        "\n",
        "    return iteration_arr, loss_arr, grad_arr, prediction\n",
        "\n",
        "torch.manual_seed(1)\n",
        "model0 = Model0()\n",
        "total_parameters = sum(p.numel() for p in model0.parameters())\n",
        "print('Total number of parameters in Model0:', total_parameters)\n",
        "\n",
        "iteration_arr, loss_arr, grad_arr, prediction = train_model(model0, x, y)"
      ],
      "metadata": {
        "colab": {
          "base_uri": "https://localhost:8080/"
        },
        "id": "rnukLBRZv66Y",
        "outputId": "1a52e5cd-57a4-4208-f262-df59616c038d"
      },
      "execution_count": null,
      "outputs": [
        {
          "output_type": "stream",
          "name": "stdout",
          "text": [
            "Total number of parameters in Model0: 571\n",
            "iteration: 100, loss = 0.0586, grad_norm = 0.040222860872745514\n",
            "iteration: 200, loss = 0.0396, grad_norm = 0.031795062124729156\n",
            "iteration: 300, loss = 0.0261, grad_norm = 0.023222731426358223\n",
            "iteration: 400, loss = 0.0169, grad_norm = 0.017343556508421898\n",
            "iteration: 500, loss = 0.0114, grad_norm = 0.01248239353299141\n",
            "iteration: 600, loss = 0.0085, grad_norm = 0.008574029430747032\n",
            "iteration: 700, loss = 0.0070, grad_norm = 0.005944325588643551\n",
            "iteration: 800, loss = 0.0062, grad_norm = 0.004710291512310505\n",
            "iteration: 900, loss = 0.0057, grad_norm = 0.004099923651665449\n",
            "iteration: 1000, loss = 0.0054, grad_norm = 0.003910792525857687\n",
            "iteration: 1100, loss = 0.0051, grad_norm = 0.0034578312188386917\n",
            "iteration: 1200, loss = 0.0048, grad_norm = 0.003418936626985669\n",
            "iteration: 1300, loss = 0.0044, grad_norm = 0.0032735925633460283\n",
            "iteration: 1400, loss = 0.0041, grad_norm = 0.0035852021537721157\n",
            "iteration: 1500, loss = 0.0038, grad_norm = 0.006715212948620319\n",
            "iteration: 1600, loss = 0.0035, grad_norm = 0.006841390393674374\n",
            "iteration: 1700, loss = 0.0032, grad_norm = 0.0034756320528686047\n",
            "iteration: 1800, loss = 0.0029, grad_norm = 0.0031791164074093103\n",
            "iteration: 1900, loss = 0.0027, grad_norm = 0.007733820006251335\n",
            "iteration: 2000, loss = 0.0024, grad_norm = 0.0036359583027660847\n",
            "iteration: 2100, loss = 0.0022, grad_norm = 0.003536679781973362\n",
            "iteration: 2200, loss = 0.0021, grad_norm = 0.0045612165704369545\n",
            "iteration: 2300, loss = 0.0019, grad_norm = 0.008937579579651356\n",
            "iteration: 2400, loss = 0.0018, grad_norm = 0.012974954210221767\n",
            "iteration: 2500, loss = 0.0017, grad_norm = 0.0019258387619629502\n",
            "iteration: 2600, loss = 0.0015, grad_norm = 0.010849712416529655\n",
            "iteration: 2700, loss = 0.0015, grad_norm = 0.021964576095342636\n",
            "iteration: 2800, loss = 0.0014, grad_norm = 0.013273697346448898\n",
            "iteration: 2900, loss = 0.0013, grad_norm = 0.003766158828511834\n",
            "iteration: 3000, loss = 0.0012, grad_norm = 0.0045691682025790215\n",
            "iteration: 3100, loss = 0.0012, grad_norm = 0.0019927325192838907\n",
            "iteration: 3200, loss = 0.0011, grad_norm = 0.00718134269118309\n",
            "iteration: 3300, loss = 0.0011, grad_norm = 0.013841425068676472\n",
            "iteration: 3400, loss = 0.0011, grad_norm = 0.0017500841058790684\n",
            "iteration: 3500, loss = 0.0010, grad_norm = 0.0013007704401388764\n",
            "iteration: 3600, loss = 0.0010, grad_norm = 0.004209163598716259\n",
            "iteration: 3700, loss = 0.0010, grad_norm = 0.029526885598897934\n",
            "iteration: 3800, loss = 0.0009, grad_norm = 0.009381708689033985\n",
            "iteration: 3900, loss = 0.0009, grad_norm = 0.002636054065078497\n",
            "iteration: 4000, loss = 0.0009, grad_norm = 0.006906662601977587\n",
            "iteration: 4100, loss = 0.0009, grad_norm = 0.005884074606001377\n",
            "iteration: 4200, loss = 0.0009, grad_norm = 0.025358179584145546\n",
            "iteration: 4300, loss = 0.0008, grad_norm = 0.007707702461630106\n",
            "iteration: 4400, loss = 0.0008, grad_norm = 0.02360043115913868\n",
            "Convergence reached for loss: 0.0008091682102531195\n"
          ]
        }
      ]
    },
    {
      "cell_type": "code",
      "source": [
        "# Plot gradient norm against iterations\n",
        "plt.plot(iteration_arr, grad_arr, color=\"blue\")\n",
        "plt.title('Gradient Norm')\n",
        "plt.xlabel(\"Iteration\")\n",
        "plt.ylabel(\"Grad Norm\")\n",
        "plt.show()"
      ],
      "metadata": {
        "colab": {
          "base_uri": "https://localhost:8080/",
          "height": 472
        },
        "id": "I09N0-Msv-tB",
        "outputId": "53b9a297-b0b9-4f59-9636-c316d09b8e42"
      },
      "execution_count": null,
      "outputs": [
        {
          "output_type": "display_data",
          "data": {
            "text/plain": [
              "<Figure size 640x480 with 1 Axes>"
            ],
            "image/png": "[encoded data removed]"
          },
          "metadata": {}
        }
      ]
    },
    {
      "cell_type": "code",
      "source": [
        "# Plot loss against iterations\n",
        "plt.plot(iteration_arr, loss_arr, color=\"red\")\n",
        "plt.title('model loss')\n",
        "plt.xlabel(\"Iteration\")\n",
        "plt.ylabel(\"Loss\")\n",
        "plt.show()"
      ],
      "metadata": {
        "colab": {
          "base_uri": "https://localhost:8080/",
          "height": 472
        },
        "id": "qBAeQesjv-w9",
        "outputId": "8e1b43e9-3ba3-4ff1-ef7d-05af58e79af8"
      },
      "execution_count": null,
      "outputs": [
        {
          "output_type": "display_data",
          "data": {
            "text/plain": [
              "<Figure size 640x480 with 1 Axes>"
            ],
            "image/png": "[encoded data removed]"
          },
          "metadata": {}
        }
      ]
    },
    {
      "cell_type": "code",
      "source": [
        "# Plot gradient norm and loss against iterations in one figure with subplots\n",
        "fig, (ax1, ax2) = plt.subplots(2, 1, figsize=(10, 8))\n",
        "\n",
        "ax1.plot(iteration_arr, grad_arr, color=\"blue\", label=\"Grad Norm\")\n",
        "ax1.set_ylabel(\"Grad Norm\")\n",
        "\n",
        "ax2.plot(iteration_arr, loss_arr, color=\"red\", label=\"Loss\")\n",
        "ax2.set_xlabel(\"Iteration\")\n",
        "ax2.set_ylabel(\"Loss\")\n",
        "\n",
        "plt.tight_layout()\n",
        "plt.show()"
      ],
      "metadata": {
        "colab": {
          "base_uri": "https://localhost:8080/",
          "height": 807
        },
        "id": "wgvLn-K7wCCG",
        "outputId": "4178f3ab-8f2d-46a9-d0b6-c5f8a17531a5"
      },
      "execution_count": null,
      "outputs": [
        {
          "output_type": "display_data",
          "data": {
            "text/plain": [
              "<Figure size 1000x800 with 2 Axes>"
            ],
            "image/png": "[encoded data removed]"
          },
          "metadata": {}
        }
      ]
    },
    {
      "cell_type": "markdown",
      "source": [
        "PART 3 MINIMUM GRADIANT"
      ],
      "metadata": {
        "id": "b4bDyvLhwHIN"
      }
    },
    {
      "cell_type": "code",
      "source": [
        "torch.manual_seed(1)\n",
        "x = torch.unsqueeze(torch.linspace(-1, 1, 300), dim=1)\n",
        "y = (np.sin(5 * np.pi * x)) / (5 * np.pi * x)\n",
        "x, y = torch.tensor(x, dtype=torch.float32), torch.tensor(y, dtype=torch.float32)"
      ],
      "metadata": {
        "colab": {
          "base_uri": "https://localhost:8080/"
        },
        "id": "oIdeEPvIwGSH",
        "outputId": "57cf3241-7dc6-4de1-ab97-d73f24520163"
      },
      "execution_count": null,
      "outputs": [
        {
          "output_type": "stream",
          "name": "stderr",
          "text": [
            "<ipython-input-15-5b05e1f3d42c>:4: UserWarning: To copy construct from a tensor, it is recommended to use sourceTensor.clone().detach() or sourceTensor.clone().detach().requires_grad_(True), rather than torch.tensor(sourceTensor).\n",
            "  x, y = torch.tensor(x, dtype=torch.float32), torch.tensor(y, dtype=torch.float32)\n"
          ]
        }
      ]
    },
    {
      "cell_type": "code",
      "source": [
        "class Model(nn.Module):\n",
        "    def __init__(self):\n",
        "        super(Model, self).__init__()\n",
        "        self.linear_1 = nn.Linear(1, 4)\n",
        "        self.linear_2 = nn.Linear(4, 9)\n",
        "        self.linear_3 = nn.Linear(9, 12)\n",
        "        self.linear_4 = nn.Linear(12, 10)\n",
        "        self.linear_5 = nn.Linear(10, 10)\n",
        "        self.linear_6 = nn.Linear(10, 10)\n",
        "        self.linear_7 = nn.Linear(10, 4)\n",
        "        self.predict = nn.Linear(4, 1)\n",
        "\n",
        "    def forward(self,x):\n",
        "        x = nn.functional.leaky_relu(self.linear_1(x))\n",
        "        x = nn.functional.leaky_relu(self.linear_2(x))\n",
        "        x = nn.functional.leaky_relu(self.linear_3(x))\n",
        "        x = nn.functional.leaky_relu(self.linear_4(x))\n",
        "        x = nn.functional.leaky_relu(self.linear_5(x))\n",
        "        x = nn.functional.leaky_relu(self.linear_6(x))\n",
        "        x = nn.functional.leaky_relu(self.linear_7(x))\n",
        "\n",
        "        x = self.predict(x)\n",
        "        return x"
      ],
      "metadata": {
        "id": "fRrVUY7OwGVU"
      },
      "execution_count": null,
      "outputs": []
    },
    {
      "cell_type": "code",
      "source": [
        "model = Model()\n",
        "total_params = sum(p.numel() for p in model.parameters())\n",
        "print('Total parameters ', total_params)"
      ],
      "metadata": {
        "colab": {
          "base_uri": "https://localhost:8080/"
        },
        "id": "gic9HVxEzG7B",
        "outputId": "ad35b2c7-7cf2-42de-ddc7-da72519e45a1"
      },
      "execution_count": null,
      "outputs": [
        {
          "output_type": "stream",
          "name": "stdout",
          "text": [
            "Total parameters  572\n"
          ]
        }
      ]
    },
    {
      "cell_type": "code",
      "source": [
        "def train_model(model, x, y):\n",
        "    epoch_size = 4000\n",
        "    loss_arr = []\n",
        "    epoch_arr = []\n",
        "    grad_arr = []\n",
        "    converged = False\n",
        "    min_grad = 0\n",
        "    loss_val=0\n",
        "    minimal_ratio = 0.0\n",
        "\n",
        "    for epoch in range(epoch_size):\n",
        "        if(converged):\n",
        "            return epoch_arr, loss_arr, y_prediction, grad_arr\n",
        "\n",
        "        y_prediction = model(x)\n",
        "        lossm_val = 0.001\n",
        "        loss = loss_func(y_prediction, y)\n",
        "        optimizer.zero_grad()\n",
        "        loss.backward()\n",
        "        optimizer.step()\n",
        "        epoch_arr.append(epoch)\n",
        "        loss_arr.append(loss.detach().numpy())\n",
        "\n",
        "        #we calculate the gradient\n",
        "        grad_all = 0.0\n",
        "        for p in model.parameters():\n",
        "            grad = 0.0\n",
        "            if p.grad is not None:\n",
        "                grad = (p.grad.cpu().data.numpy()**2).sum()\n",
        "            grad_all += grad\n",
        "        grad_norm = grad_all ** 0.5\n",
        "\n",
        "        grad_arr.append(grad_norm)\n",
        "\n",
        "        total_params=sum(p.numel() for p in model.parameters())\n",
        "        if grad_norm < 0.001 or epoch == epoch_size:\n",
        "            print('the gradient norm has reached a min value')\n",
        "            predicted_y = model(x)\n",
        "            lossm=loss_func(predicted_y,y)\n",
        "            H = torch.zeros((total_params, total_params))\n",
        "\n",
        "            gradient = torch.autograd.grad(lossm, list(model.parameters()), create_graph=True)\n",
        "            gradient = torch.cat([e.flatten() for e in gradient]) # flatten\n",
        "            for i in range(total_params):\n",
        "                result = torch.autograd.grad(gradient[i], list(model.parameters()), retain_graph=True)\n",
        "                H[i] = torch.cat([r.flatten() for r in result]) # flatten\n",
        "            H_eig = torch.linalg.eigvalsh(H, UPLO='U')  # eigenvalues\n",
        "\n",
        "            positive_count=0\n",
        "            for i in H_eig.tolist():\n",
        "                if(i>0):\n",
        "                    positive_count+=1\n",
        "            minimal_ratio = positive_count/H.shape[0]\n",
        "            print(' Minimum value: ',minimal_ratio)\n",
        "            print(' Loss:  ', lossm.data.detach().numpy())\n",
        "            print(' the current epoch: ', epoch)\n",
        "            lossm_val=lossm.data.detach().numpy()\n",
        "            break\n",
        "\n",
        "\n",
        "    return lossm_val,minimal_ratio"
      ],
      "metadata": {
        "id": "ejr294HhzG9q"
      },
      "execution_count": null,
      "outputs": []
    },
    {
      "cell_type": "code",
      "source": [
        "loss_arr = []\n",
        "min_ratio_arr = []\n",
        "for index in range(100):\n",
        "    print(\"Training model \", index) #index gives us the model number\n",
        "    model = Model()\n",
        "    loss_func = torch.nn.MSELoss()\n",
        "    optimizer = torch.optim.Adam(model.parameters(), lr = 1e-3, weight_decay = 1e-5)\n",
        "\n",
        "    loss_value, min_ratio = train_model(model, x, y)\n",
        "    loss_arr.append(loss_value)\n",
        "    min_ratio_arr.append(min_ratio)"
      ],
      "metadata": {
        "colab": {
          "base_uri": "https://localhost:8080/"
        },
        "id": "GewS0bZCzHAI",
        "outputId": "e828efc6-ded0-4156-c1bb-42f253fd2968"
      },
      "execution_count": null,
      "outputs": [
        {
          "output_type": "stream",
          "name": "stdout",
          "text": [
            "Training model  0\n",
            "the gradient norm has reached a min value\n",
            " Minimum value:  0.5384615384615384\n",
            " Loss:   0.00041288845\n",
            " the current epoch:  905\n",
            "Training model  1\n",
            "the gradient norm has reached a min value\n",
            " Minimum value:  0.5437062937062938\n",
            " Loss:   0.002538844\n",
            " the current epoch:  1120\n",
            "Training model  2\n",
            "the gradient norm has reached a min value\n",
            " Minimum value:  0.5\n",
            " Loss:   0.08690248\n",
            " the current epoch:  24\n",
            "Training model  3\n",
            "the gradient norm has reached a min value\n",
            " Minimum value:  0.5244755244755245\n",
            " Loss:   0.0027210542\n",
            " the current epoch:  1120\n",
            "Training model  4\n",
            "the gradient norm has reached a min value\n",
            " Minimum value:  0.5\n",
            " Loss:   0.08689961\n",
            " the current epoch:  151\n",
            "Training model  5\n",
            "the gradient norm has reached a min value\n",
            " Minimum value:  0.5052447552447552\n",
            " Loss:   0.086869925\n",
            " the current epoch:  98\n",
            "Training model  6\n",
            "the gradient norm has reached a min value\n",
            " Minimum value:  0.5402097902097902\n",
            " Loss:   0.002384029\n",
            " the current epoch:  597\n",
            "Training model  7\n",
            "the gradient norm has reached a min value\n",
            " Minimum value:  0.5454545454545454\n",
            " Loss:   0.0006060238\n",
            " the current epoch:  2624\n",
            "Training model  8\n",
            "the gradient norm has reached a min value\n",
            " Minimum value:  0.5244755244755245\n",
            " Loss:   0.0026192442\n",
            " the current epoch:  543\n",
            "Training model  9\n",
            "the gradient norm has reached a min value\n",
            " Minimum value:  0.5034965034965035\n",
            " Loss:   0.086906776\n",
            " the current epoch:  99\n",
            "Training model  10\n",
            "the gradient norm has reached a min value\n",
            " Minimum value:  0.5384615384615384\n",
            " Loss:   0.0014870709\n",
            " the current epoch:  941\n",
            "Training model  11\n",
            "the gradient norm has reached a min value\n",
            " Minimum value:  0.5506993006993007\n",
            " Loss:   0.0012992689\n",
            " the current epoch:  679\n",
            "Training model  12\n",
            "the gradient norm has reached a min value\n",
            " Minimum value:  0.5629370629370629\n",
            " Loss:   2.2275493e-05\n",
            " the current epoch:  1673\n",
            "Training model  13\n",
            "the gradient norm has reached a min value\n",
            " Minimum value:  0.5332167832167832\n",
            " Loss:   0.0014789831\n",
            " the current epoch:  967\n",
            "Training model  14\n",
            "the gradient norm has reached a min value\n",
            " Minimum value:  0.5\n",
            " Loss:   0.08689267\n",
            " the current epoch:  178\n",
            "Training model  15\n",
            "the gradient norm has reached a min value\n",
            " Minimum value:  0.5262237762237763\n",
            " Loss:   0.0024108181\n",
            " the current epoch:  841\n",
            "Training model  16\n",
            "the gradient norm has reached a min value\n",
            " Minimum value:  0.5017482517482518\n",
            " Loss:   0.08697712\n",
            " the current epoch:  165\n",
            "Training model  17\n",
            "the gradient norm has reached a min value\n",
            " Minimum value:  0.5017482517482518\n",
            " Loss:   0.08694566\n",
            " the current epoch:  306\n",
            "Training model  18\n",
            "the gradient norm has reached a min value\n",
            " Minimum value:  0.5402097902097902\n",
            " Loss:   0.0031299712\n",
            " the current epoch:  676\n",
            "Training model  19\n",
            "the gradient norm has reached a min value\n",
            " Minimum value:  0.5209790209790209\n",
            " Loss:   0.0058452073\n",
            " the current epoch:  714\n",
            "Training model  20\n",
            "the gradient norm has reached a min value\n",
            " Minimum value:  0.5052447552447552\n",
            " Loss:   0.08686914\n",
            " the current epoch:  99\n",
            "Training model  21\n",
            "the gradient norm has reached a min value\n",
            " Minimum value:  0.5017482517482518\n",
            " Loss:   0.086914875\n",
            " the current epoch:  295\n",
            "Training model  22\n",
            "the gradient norm has reached a min value\n",
            " Minimum value:  0.5367132867132867\n",
            " Loss:   0.0025435712\n",
            " the current epoch:  593\n",
            "Training model  23\n",
            "the gradient norm has reached a min value\n",
            " Minimum value:  0.5402097902097902\n",
            " Loss:   0.00017478889\n",
            " the current epoch:  879\n",
            "Training model  24\n",
            "the gradient norm has reached a min value\n",
            " Minimum value:  0.5594405594405595\n",
            " Loss:   0.00012078619\n",
            " the current epoch:  1440\n",
            "Training model  25\n",
            "the gradient norm has reached a min value\n",
            " Minimum value:  0.4982517482517482\n",
            " Loss:   0.08686671\n",
            " the current epoch:  76\n",
            "Training model  26\n",
            "the gradient norm has reached a min value\n",
            " Minimum value:  0.5506993006993007\n",
            " Loss:   0.00014584564\n",
            " the current epoch:  1182\n",
            "Training model  27\n",
            "the gradient norm has reached a min value\n",
            " Minimum value:  0.5034965034965035\n",
            " Loss:   0.08684301\n",
            " the current epoch:  54\n",
            "Training model  28\n",
            "the gradient norm has reached a min value\n",
            " Minimum value:  0.5454545454545454\n",
            " Loss:   0.0013366755\n",
            " the current epoch:  1010\n",
            "Training model  29\n",
            "the gradient norm has reached a min value\n",
            " Minimum value:  0.5034965034965035\n",
            " Loss:   0.08689484\n",
            " the current epoch:  46\n",
            "Training model  30\n",
            "the gradient norm has reached a min value\n",
            " Minimum value:  0.5034965034965035\n",
            " Loss:   0.086872\n",
            " the current epoch:  97\n",
            "Training model  31\n",
            "the gradient norm has reached a min value\n",
            " Minimum value:  0.548951048951049\n",
            " Loss:   0.0008283574\n",
            " the current epoch:  1155\n",
            "Training model  32\n",
            "the gradient norm has reached a min value\n",
            " Minimum value:  0.4982517482517482\n",
            " Loss:   0.08690401\n",
            " the current epoch:  24\n",
            "Training model  33\n",
            "the gradient norm has reached a min value\n",
            " Minimum value:  0.5472027972027972\n",
            " Loss:   0.0013493042\n",
            " the current epoch:  1801\n",
            "Training model  34\n",
            "the gradient norm has reached a min value\n",
            " Minimum value:  0.5034965034965035\n",
            " Loss:   0.08687114\n",
            " the current epoch:  52\n",
            "Training model  35\n",
            "the gradient norm has reached a min value\n",
            " Minimum value:  0.5472027972027972\n",
            " Loss:   0.00037231462\n",
            " the current epoch:  1764\n",
            "Training model  36\n",
            "the gradient norm has reached a min value\n",
            " Minimum value:  0.5594405594405595\n",
            " Loss:   6.2903455e-05\n",
            " the current epoch:  2035\n",
            "Training model  37\n",
            "the gradient norm has reached a min value\n",
            " Minimum value:  0.5017482517482518\n",
            " Loss:   0.086903594\n",
            " the current epoch:  30\n",
            "Training model  38\n",
            "the gradient norm has reached a min value\n",
            " Minimum value:  0.5034965034965035\n",
            " Loss:   0.08690311\n",
            " the current epoch:  72\n",
            "Training model  39\n",
            "the gradient norm has reached a min value\n",
            " Minimum value:  0.5262237762237763\n",
            " Loss:   0.002603415\n",
            " the current epoch:  902\n",
            "Training model  40\n",
            "the gradient norm has reached a min value\n",
            " Minimum value:  0.5314685314685315\n",
            " Loss:   0.0026855448\n",
            " the current epoch:  654\n",
            "Training model  41\n",
            "the gradient norm has reached a min value\n",
            " Minimum value:  0.5472027972027972\n",
            " Loss:   0.0015056048\n",
            " the current epoch:  1737\n",
            "Training model  42\n",
            "the gradient norm has reached a min value\n",
            " Minimum value:  0.527972027972028\n",
            " Loss:   0.006924519\n",
            " the current epoch:  450\n",
            "Training model  43\n",
            "the gradient norm has reached a min value\n",
            " Minimum value:  0.5541958041958042\n",
            " Loss:   0.00085079373\n",
            " the current epoch:  1461\n",
            "Training model  44\n",
            "the gradient norm has reached a min value\n",
            " Minimum value:  0.5227272727272727\n",
            " Loss:   0.0066336985\n",
            " the current epoch:  710\n",
            "Training model  45\n",
            "the gradient norm has reached a min value\n",
            " Minimum value:  0.541958041958042\n",
            " Loss:   0.0001472121\n",
            " the current epoch:  936\n",
            "Training model  46\n",
            "the gradient norm has reached a min value\n",
            " Minimum value:  0.5\n",
            " Loss:   0.0869208\n",
            " the current epoch:  82\n",
            "Training model  47\n",
            "the gradient norm has reached a min value\n",
            " Minimum value:  0.5332167832167832\n",
            " Loss:   0.0026430192\n",
            " the current epoch:  1577\n",
            "Training model  48\n",
            "the gradient norm has reached a min value\n",
            " Minimum value:  0.5017482517482518\n",
            " Loss:   0.08690141\n",
            " the current epoch:  219\n",
            "Training model  49\n",
            "the gradient norm has reached a min value\n",
            " Minimum value:  0.5367132867132867\n",
            " Loss:   0.0027090765\n",
            " the current epoch:  979\n",
            "Training model  50\n",
            "the gradient norm has reached a min value\n",
            " Minimum value:  0.5017482517482518\n",
            " Loss:   0.086884\n",
            " the current epoch:  58\n",
            "Training model  51\n",
            "the gradient norm has reached a min value\n",
            " Minimum value:  0.5\n",
            " Loss:   0.08689567\n",
            " the current epoch:  18\n",
            "Training model  52\n",
            "the gradient norm has reached a min value\n",
            " Minimum value:  0.5367132867132867\n",
            " Loss:   0.002563411\n",
            " the current epoch:  595\n",
            "Training model  53\n",
            "the gradient norm has reached a min value\n",
            " Minimum value:  0.5\n",
            " Loss:   0.08690003\n",
            " the current epoch:  334\n",
            "Training model  54\n",
            "the gradient norm has reached a min value\n",
            " Minimum value:  0.5384615384615384\n",
            " Loss:   0.0029424406\n",
            " the current epoch:  1310\n",
            "Training model  55\n",
            "the gradient norm has reached a min value\n",
            " Minimum value:  0.5034965034965035\n",
            " Loss:   0.08686737\n",
            " the current epoch:  226\n",
            "Training model  56\n",
            "the gradient norm has reached a min value\n",
            " Minimum value:  0.5384615384615384\n",
            " Loss:   0.0014267752\n",
            " the current epoch:  1148\n",
            "Training model  57\n",
            "the gradient norm has reached a min value\n",
            " Minimum value:  0.5367132867132867\n",
            " Loss:   0.0029245957\n",
            " the current epoch:  1243\n",
            "Training model  58\n",
            "the gradient norm has reached a min value\n",
            " Minimum value:  0.5524475524475524\n",
            " Loss:   0.0003261401\n",
            " the current epoch:  1508\n",
            "Training model  59\n",
            "the gradient norm has reached a min value\n",
            " Minimum value:  0.5472027972027972\n",
            " Loss:   0.0014502829\n",
            " the current epoch:  1176\n",
            "Training model  60\n",
            "the gradient norm has reached a min value\n",
            " Minimum value:  0.527972027972028\n",
            " Loss:   0.0023593048\n",
            " the current epoch:  686\n",
            "Training model  61\n",
            "the gradient norm has reached a min value\n",
            " Minimum value:  0.5227272727272727\n",
            " Loss:   0.0028823225\n",
            " the current epoch:  955\n",
            "Training model  62\n",
            "the gradient norm has reached a min value\n",
            " Minimum value:  0.5017482517482518\n",
            " Loss:   0.086917646\n",
            " the current epoch:  116\n",
            "Training model  63\n",
            "the gradient norm has reached a min value\n",
            " Minimum value:  0.5629370629370629\n",
            " Loss:   8.344487e-05\n",
            " the current epoch:  2298\n",
            "Training model  64\n",
            "the gradient norm has reached a min value\n",
            " Minimum value:  0.5034965034965035\n",
            " Loss:   0.08689616\n",
            " the current epoch:  114\n",
            "Training model  65\n",
            "the gradient norm has reached a min value\n",
            " Minimum value:  0.5506993006993007\n",
            " Loss:   0.0003192866\n",
            " the current epoch:  1692\n",
            "Training model  66\n",
            "Training model  67\n",
            "the gradient norm has reached a min value\n",
            " Minimum value:  0.5\n",
            " Loss:   0.086861566\n",
            " the current epoch:  83\n",
            "Training model  68\n",
            "the gradient norm has reached a min value\n",
            " Minimum value:  0.5506993006993007\n",
            " Loss:   0.000175818\n",
            " the current epoch:  1868\n",
            "Training model  69\n",
            "the gradient norm has reached a min value\n",
            " Minimum value:  0.541958041958042\n",
            " Loss:   0.0026691847\n",
            " the current epoch:  974\n",
            "Training model  70\n",
            "the gradient norm has reached a min value\n",
            " Minimum value:  0.5017482517482518\n",
            " Loss:   0.08677964\n",
            " the current epoch:  92\n",
            "Training model  71\n",
            "the gradient norm has reached a min value\n",
            " Minimum value:  0.5472027972027972\n",
            " Loss:   0.0013953048\n",
            " the current epoch:  2480\n",
            "Training model  72\n",
            "the gradient norm has reached a min value\n",
            " Minimum value:  0.5402097902097902\n",
            " Loss:   0.0014013026\n",
            " the current epoch:  999\n",
            "Training model  73\n",
            "the gradient norm has reached a min value\n",
            " Minimum value:  0.5017482517482518\n",
            " Loss:   0.08684213\n",
            " the current epoch:  61\n",
            "Training model  74\n",
            "the gradient norm has reached a min value\n",
            " Minimum value:  0.5017482517482518\n",
            " Loss:   0.08688001\n",
            " the current epoch:  6\n",
            "Training model  75\n",
            "the gradient norm has reached a min value\n",
            " Minimum value:  0.5472027972027972\n",
            " Loss:   0.00019101116\n",
            " the current epoch:  1105\n",
            "Training model  76\n",
            "the gradient norm has reached a min value\n",
            " Minimum value:  0.5\n",
            " Loss:   0.08690351\n",
            " the current epoch:  155\n",
            "Training model  77\n",
            "the gradient norm has reached a min value\n",
            " Minimum value:  0.5524475524475524\n",
            " Loss:   0.0011613974\n",
            " the current epoch:  1061\n",
            "Training model  78\n",
            "the gradient norm has reached a min value\n",
            " Minimum value:  0.5262237762237763\n",
            " Loss:   0.0041370946\n",
            " the current epoch:  1372\n",
            "Training model  79\n",
            "the gradient norm has reached a min value\n",
            " Minimum value:  0.5157342657342657\n",
            " Loss:   0.0057983953\n",
            " the current epoch:  621\n",
            "Training model  80\n",
            "the gradient norm has reached a min value\n",
            " Minimum value:  0.5506993006993007\n",
            " Loss:   0.00017990409\n",
            " the current epoch:  1402\n",
            "Training model  81\n",
            "the gradient norm has reached a min value\n",
            " Minimum value:  0.5052447552447552\n",
            " Loss:   0.0868676\n",
            " the current epoch:  87\n",
            "Training model  82\n",
            "the gradient norm has reached a min value\n",
            " Minimum value:  0.5262237762237763\n",
            " Loss:   0.0057810554\n",
            " the current epoch:  1608\n",
            "Training model  83\n",
            "the gradient norm has reached a min value\n",
            " Minimum value:  0.541958041958042\n",
            " Loss:   0.00022111759\n",
            " the current epoch:  2529\n",
            "Training model  84\n",
            "the gradient norm has reached a min value\n",
            " Minimum value:  0.5017482517482518\n",
            " Loss:   0.086845025\n",
            " the current epoch:  24\n",
            "Training model  85\n",
            "the gradient norm has reached a min value\n",
            " Minimum value:  0.5262237762237763\n",
            " Loss:   0.00271636\n",
            " the current epoch:  606\n",
            "Training model  86\n",
            "the gradient norm has reached a min value\n",
            " Minimum value:  0.513986013986014\n",
            " Loss:   0.00618004\n",
            " the current epoch:  1126\n",
            "Training model  87\n",
            "Training model  88\n",
            "the gradient norm has reached a min value\n",
            " Minimum value:  0.5472027972027972\n",
            " Loss:   0.00038079647\n",
            " the current epoch:  1125\n",
            "Training model  89\n",
            "the gradient norm has reached a min value\n",
            " Minimum value:  0.5034965034965035\n",
            " Loss:   0.086920366\n",
            " the current epoch:  87\n",
            "Training model  90\n",
            "the gradient norm has reached a min value\n",
            " Minimum value:  0.5559440559440559\n",
            " Loss:   6.0371414e-05\n",
            " the current epoch:  1799\n",
            "Training model  91\n",
            "the gradient norm has reached a min value\n",
            " Minimum value:  0.513986013986014\n",
            " Loss:   0.0074706245\n",
            " the current epoch:  474\n",
            "Training model  92\n",
            "the gradient norm has reached a min value\n",
            " Minimum value:  0.5402097902097902\n",
            " Loss:   0.0030731738\n",
            " the current epoch:  1472\n",
            "Training model  93\n",
            "the gradient norm has reached a min value\n",
            " Minimum value:  0.5017482517482518\n",
            " Loss:   0.08681526\n",
            " the current epoch:  105\n",
            "Training model  94\n",
            "the gradient norm has reached a min value\n",
            " Minimum value:  0.5034965034965035\n",
            " Loss:   0.08696266\n",
            " the current epoch:  299\n",
            "Training model  95\n",
            "the gradient norm has reached a min value\n",
            " Minimum value:  0.534965034965035\n",
            " Loss:   0.0024196347\n",
            " the current epoch:  710\n",
            "Training model  96\n",
            "the gradient norm has reached a min value\n",
            " Minimum value:  0.506993006993007\n",
            " Loss:   0.0065672356\n",
            " the current epoch:  1226\n",
            "Training model  97\n",
            "the gradient norm has reached a min value\n",
            " Minimum value:  0.548951048951049\n",
            " Loss:   0.00015978765\n",
            " the current epoch:  1481\n",
            "Training model  98\n",
            "the gradient norm has reached a min value\n",
            " Minimum value:  0.5559440559440559\n",
            " Loss:   0.001290604\n",
            " the current epoch:  1343\n",
            "Training model  99\n",
            "the gradient norm has reached a min value\n",
            " Minimum value:  0.5384615384615384\n",
            " Loss:   0.0024328597\n",
            " the current epoch:  801\n"
          ]
        }
      ]
    },
    {
      "cell_type": "code",
      "source": [
        "import matplotlib.pyplot as plt\n",
        "\n",
        "plt.figure(figsize=(10, 8))\n",
        "\n",
        "plt.scatter(min_ratio_arr, loss_arr, color=\"blue\")\n",
        "plt.xlabel(\"Minimal Ratio\")\n",
        "plt.ylabel(\"Loss\")\n",
        "plt.title(\"Scatter Plot of Minimal Ratio vs. Loss\")\n",
        "\n",
        "# Adjust x-axis and y-axis scales\n",
        "plt.xlim(0.48, 0.57)  # Replace x_min and x_max with your desired values\n",
        " # Replace y_min and y_max with your desired values\n",
        "\n",
        "plt.show()"
      ],
      "metadata": {
        "colab": {
          "base_uri": "https://localhost:8080/",
          "height": 718
        },
        "id": "qsxwwLdizHCb",
        "outputId": "e3aaeee9-7e23-424c-bb5a-e49afa394120"
      },
      "execution_count": null,
      "outputs": [
        {
          "output_type": "display_data",
          "data": {
            "text/plain": [
              "<Figure size 1000x800 with 1 Axes>"
            ],
            "image/png": "[encoded data removed]"
          },
          "metadata": {}
        }
      ]
    },
    {
      "cell_type": "code",
      "source": [],
      "metadata": {
        "id": "yoaGwtuw5BNv"
      },
      "execution_count": null,
      "outputs": []
    }
  ]
}